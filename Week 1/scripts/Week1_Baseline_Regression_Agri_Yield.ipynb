{
 "cells": [
  {
   "cell_type": "markdown",
   "id": "e0d0f305",
   "metadata": {},
   "source": [
    "# Week 1 — Vision & Foundation: Baseline Regression (Agricultural Yield)\n",
    "DataVerse Africa Internship Cohort 3.0 — Data Science Track\n",
    "\n",
    "**What you’ll do**: Frame an ML problem, explore data, build a leak-free preprocessing pipeline, and train a baseline regression model. \n",
    "\n",
    "**Deliverable**: A baseline model + short research brief. \n"
   ]
  },
  {
   "cell_type": "markdown",
   "id": "c972a9bc",
   "metadata": {},
   "source": [
    "\n",
    "## Learning Outcomes\n",
    "- Explain supervised vs. unsupervised learning and where regression fits.\n",
    "- Run an end‑to‑end *tabular* ML workflow with scikit‑learn.\n",
    "- Perform basic EDA (shape, missingness, distributions, correlations).\n",
    "- Build a **ColumnTransformer + Pipeline** with `SimpleImputer`, `StandardScaler`, and `OneHotEncoder`.\n",
    "- Train/evaluate baseline regressors (Linear Regression, Random Forest) using **MAE/RMSE/R²**.\n",
    "- Avoid **data leakage** using pipelines and proper splits.\n",
    "\n",
    "> **Tip**: This notebook uses a **synthetic Nigeria‑like crop yield dataset** to make the lab self‑contained. In project weeks, swap in FAOSTAT/field data.\n"
   ]
  },
  {
   "cell_type": "markdown",
   "id": "2b4df34e",
   "metadata": {},
   "source": [
    "\n",
    "## 0) Setup\n",
    "Installed libraries assumed: `numpy`, `pandas`, `matplotlib`, `scikit-learn`, `joblib` (optional).\n",
    "\n",
    "> If you get import errors, install locally (e.g., `pip install pandas scikit-learn matplotlib joblib`).\n"
   ]
  },
  {
   "cell_type": "code",
   "execution_count": 30,
   "id": "2a76802e",
   "metadata": {},
   "outputs": [],
   "source": [
    "import numpy as np\n",
    "import pandas as pd\n",
    "import matplotlib.pyplot as plt\n",
    "\n",
    "from sklearn.model_selection import train_test_split\n",
    "from sklearn.compose import ColumnTransformer\n",
    "from sklearn.pipeline import Pipeline, make_pipeline\n",
    "from sklearn.preprocessing import OneHotEncoder, StandardScaler, LabelEncoder\n",
    "from sklearn.impute import SimpleImputer\n",
    "from sklearn.linear_model import LinearRegression\n",
    "from sklearn.ensemble import RandomForestRegressor\n",
    "from sklearn.metrics import mean_absolute_error, mean_squared_error, r2_score\n",
    "\n",
    "import joblib, os, pathlib"
   ]
  },
  {
   "cell_type": "markdown",
   "id": "7d02131a",
   "metadata": {},
   "source": [
    "\n",
    "## 1) Load data\n",
    "We'll start with a small, tabular dataset: synthetic crop yields (tons/ha) with climate and management features.\n"
   ]
  },
  {
   "cell_type": "code",
   "execution_count": 31,
   "id": "9bd38b53",
   "metadata": {},
   "outputs": [
    {
     "data": {
      "text/html": [
       "<div>\n",
       "<style scoped>\n",
       "    .dataframe tbody tr th:only-of-type {\n",
       "        vertical-align: middle;\n",
       "    }\n",
       "\n",
       "    .dataframe tbody tr th {\n",
       "        vertical-align: top;\n",
       "    }\n",
       "\n",
       "    .dataframe thead th {\n",
       "        text-align: right;\n",
       "    }\n",
       "</style>\n",
       "<table border=\"1\" class=\"dataframe\">\n",
       "  <thead>\n",
       "    <tr style=\"text-align: right;\">\n",
       "      <th></th>\n",
       "      <th>year</th>\n",
       "      <th>region</th>\n",
       "      <th>seed_variety</th>\n",
       "      <th>rainfall_mm</th>\n",
       "      <th>temperature_c</th>\n",
       "      <th>fertilizer_kg_ha</th>\n",
       "      <th>soil_ph</th>\n",
       "      <th>soil_organic_matter_pct</th>\n",
       "      <th>field_size_ha</th>\n",
       "      <th>pests_index</th>\n",
       "      <th>irrigated</th>\n",
       "      <th>yield_t_ha</th>\n",
       "    </tr>\n",
       "  </thead>\n",
       "  <tbody>\n",
       "    <tr>\n",
       "      <th>0</th>\n",
       "      <td>2016</td>\n",
       "      <td>North East</td>\n",
       "      <td>Improved A</td>\n",
       "      <td>1046.8</td>\n",
       "      <td>24.84</td>\n",
       "      <td>61.0</td>\n",
       "      <td>5.84</td>\n",
       "      <td>2.16</td>\n",
       "      <td>1.98</td>\n",
       "      <td>3.17</td>\n",
       "      <td>0</td>\n",
       "      <td>4.34</td>\n",
       "    </tr>\n",
       "    <tr>\n",
       "      <th>1</th>\n",
       "      <td>2013</td>\n",
       "      <td>South East</td>\n",
       "      <td>Local</td>\n",
       "      <td>1103.1</td>\n",
       "      <td>27.18</td>\n",
       "      <td>30.7</td>\n",
       "      <td>6.47</td>\n",
       "      <td>1.99</td>\n",
       "      <td>1.01</td>\n",
       "      <td>1.86</td>\n",
       "      <td>0</td>\n",
       "      <td>4.26</td>\n",
       "    </tr>\n",
       "    <tr>\n",
       "      <th>2</th>\n",
       "      <td>2022</td>\n",
       "      <td>North East</td>\n",
       "      <td>Local</td>\n",
       "      <td>1271.5</td>\n",
       "      <td>29.34</td>\n",
       "      <td>127.8</td>\n",
       "      <td>5.92</td>\n",
       "      <td>1.59</td>\n",
       "      <td>1.95</td>\n",
       "      <td>1.33</td>\n",
       "      <td>0</td>\n",
       "      <td>3.75</td>\n",
       "    </tr>\n",
       "    <tr>\n",
       "      <th>3</th>\n",
       "      <td>2020</td>\n",
       "      <td>North East</td>\n",
       "      <td>Improved A</td>\n",
       "      <td>1283.6</td>\n",
       "      <td>26.79</td>\n",
       "      <td>95.1</td>\n",
       "      <td>5.78</td>\n",
       "      <td>2.41</td>\n",
       "      <td>3.38</td>\n",
       "      <td>3.17</td>\n",
       "      <td>0</td>\n",
       "      <td>4.47</td>\n",
       "    </tr>\n",
       "    <tr>\n",
       "      <th>4</th>\n",
       "      <td>2017</td>\n",
       "      <td>North West</td>\n",
       "      <td>Local</td>\n",
       "      <td>1364.6</td>\n",
       "      <td>23.61</td>\n",
       "      <td>97.5</td>\n",
       "      <td>5.51</td>\n",
       "      <td>2.11</td>\n",
       "      <td>1.15</td>\n",
       "      <td>4.58</td>\n",
       "      <td>1</td>\n",
       "      <td>3.85</td>\n",
       "    </tr>\n",
       "  </tbody>\n",
       "</table>\n",
       "</div>"
      ],
      "text/plain": [
       "   year      region seed_variety  rainfall_mm  temperature_c  \\\n",
       "0  2016  North East   Improved A       1046.8          24.84   \n",
       "1  2013  South East        Local       1103.1          27.18   \n",
       "2  2022  North East        Local       1271.5          29.34   \n",
       "3  2020  North East   Improved A       1283.6          26.79   \n",
       "4  2017  North West        Local       1364.6          23.61   \n",
       "\n",
       "   fertilizer_kg_ha  soil_ph  soil_organic_matter_pct  field_size_ha  \\\n",
       "0              61.0     5.84                     2.16           1.98   \n",
       "1              30.7     6.47                     1.99           1.01   \n",
       "2             127.8     5.92                     1.59           1.95   \n",
       "3              95.1     5.78                     2.41           3.38   \n",
       "4              97.5     5.51                     2.11           1.15   \n",
       "\n",
       "   pests_index  irrigated  yield_t_ha  \n",
       "0         3.17          0        4.34  \n",
       "1         1.86          0        4.26  \n",
       "2         1.33          0        3.75  \n",
       "3         3.17          0        4.47  \n",
       "4         4.58          1        3.85  "
      ]
     },
     "execution_count": 31,
     "metadata": {},
     "output_type": "execute_result"
    }
   ],
   "source": [
    "\n",
    "DATA_PATH = r\"../data/week1_synthetic_agri_yield.csv\"\n",
    "df = pd.read_csv(DATA_PATH)\n",
    "df.head()\n"
   ]
  },
  {
   "cell_type": "code",
   "execution_count": 32,
   "id": "57746164",
   "metadata": {},
   "outputs": [
    {
     "data": {
      "text/html": [
       "<div>\n",
       "<style scoped>\n",
       "    .dataframe tbody tr th:only-of-type {\n",
       "        vertical-align: middle;\n",
       "    }\n",
       "\n",
       "    .dataframe tbody tr th {\n",
       "        vertical-align: top;\n",
       "    }\n",
       "\n",
       "    .dataframe thead th {\n",
       "        text-align: right;\n",
       "    }\n",
       "</style>\n",
       "<table border=\"1\" class=\"dataframe\">\n",
       "  <thead>\n",
       "    <tr style=\"text-align: right;\">\n",
       "      <th></th>\n",
       "      <th>year</th>\n",
       "      <th>region</th>\n",
       "      <th>seed_variety</th>\n",
       "      <th>rainfall_mm</th>\n",
       "      <th>temperature_c</th>\n",
       "      <th>fertilizer_kg_ha</th>\n",
       "      <th>soil_ph</th>\n",
       "      <th>soil_organic_matter_pct</th>\n",
       "      <th>field_size_ha</th>\n",
       "      <th>pests_index</th>\n",
       "      <th>irrigated</th>\n",
       "      <th>yield_t_ha</th>\n",
       "    </tr>\n",
       "  </thead>\n",
       "  <tbody>\n",
       "    <tr>\n",
       "      <th>0</th>\n",
       "      <td>2016</td>\n",
       "      <td>North East</td>\n",
       "      <td>Improved A</td>\n",
       "      <td>1046.8</td>\n",
       "      <td>24.84</td>\n",
       "      <td>61.0</td>\n",
       "      <td>5.84</td>\n",
       "      <td>2.16</td>\n",
       "      <td>1.98</td>\n",
       "      <td>3.17</td>\n",
       "      <td>0</td>\n",
       "      <td>4.34</td>\n",
       "    </tr>\n",
       "    <tr>\n",
       "      <th>1</th>\n",
       "      <td>2013</td>\n",
       "      <td>South East</td>\n",
       "      <td>Local</td>\n",
       "      <td>1103.1</td>\n",
       "      <td>27.18</td>\n",
       "      <td>30.7</td>\n",
       "      <td>6.47</td>\n",
       "      <td>1.99</td>\n",
       "      <td>1.01</td>\n",
       "      <td>1.86</td>\n",
       "      <td>0</td>\n",
       "      <td>4.26</td>\n",
       "    </tr>\n",
       "    <tr>\n",
       "      <th>2</th>\n",
       "      <td>2022</td>\n",
       "      <td>North East</td>\n",
       "      <td>Local</td>\n",
       "      <td>1271.5</td>\n",
       "      <td>29.34</td>\n",
       "      <td>127.8</td>\n",
       "      <td>5.92</td>\n",
       "      <td>1.59</td>\n",
       "      <td>1.95</td>\n",
       "      <td>1.33</td>\n",
       "      <td>0</td>\n",
       "      <td>3.75</td>\n",
       "    </tr>\n",
       "    <tr>\n",
       "      <th>3</th>\n",
       "      <td>2020</td>\n",
       "      <td>North East</td>\n",
       "      <td>Improved A</td>\n",
       "      <td>1283.6</td>\n",
       "      <td>26.79</td>\n",
       "      <td>95.1</td>\n",
       "      <td>5.78</td>\n",
       "      <td>2.41</td>\n",
       "      <td>3.38</td>\n",
       "      <td>3.17</td>\n",
       "      <td>0</td>\n",
       "      <td>4.47</td>\n",
       "    </tr>\n",
       "    <tr>\n",
       "      <th>4</th>\n",
       "      <td>2017</td>\n",
       "      <td>North West</td>\n",
       "      <td>Local</td>\n",
       "      <td>1364.6</td>\n",
       "      <td>23.61</td>\n",
       "      <td>97.5</td>\n",
       "      <td>5.51</td>\n",
       "      <td>2.11</td>\n",
       "      <td>1.15</td>\n",
       "      <td>4.58</td>\n",
       "      <td>1</td>\n",
       "      <td>3.85</td>\n",
       "    </tr>\n",
       "    <tr>\n",
       "      <th>5</th>\n",
       "      <td>2022</td>\n",
       "      <td>North East</td>\n",
       "      <td>Improved A</td>\n",
       "      <td>1702.6</td>\n",
       "      <td>26.89</td>\n",
       "      <td>NaN</td>\n",
       "      <td>5.15</td>\n",
       "      <td>2.01</td>\n",
       "      <td>5.81</td>\n",
       "      <td>0.74</td>\n",
       "      <td>1</td>\n",
       "      <td>4.62</td>\n",
       "    </tr>\n",
       "    <tr>\n",
       "      <th>6</th>\n",
       "      <td>2014</td>\n",
       "      <td>North Central</td>\n",
       "      <td>Improved B</td>\n",
       "      <td>1155.8</td>\n",
       "      <td>28.39</td>\n",
       "      <td>53.5</td>\n",
       "      <td>5.97</td>\n",
       "      <td>1.51</td>\n",
       "      <td>1.20</td>\n",
       "      <td>2.15</td>\n",
       "      <td>0</td>\n",
       "      <td>4.20</td>\n",
       "    </tr>\n",
       "    <tr>\n",
       "      <th>7</th>\n",
       "      <td>2016</td>\n",
       "      <td>South South</td>\n",
       "      <td>Improved A</td>\n",
       "      <td>1000.4</td>\n",
       "      <td>24.78</td>\n",
       "      <td>58.0</td>\n",
       "      <td>6.29</td>\n",
       "      <td>NaN</td>\n",
       "      <td>1.68</td>\n",
       "      <td>1.39</td>\n",
       "      <td>0</td>\n",
       "      <td>5.03</td>\n",
       "    </tr>\n",
       "    <tr>\n",
       "      <th>8</th>\n",
       "      <td>2019</td>\n",
       "      <td>South South</td>\n",
       "      <td>Improved B</td>\n",
       "      <td>855.2</td>\n",
       "      <td>25.73</td>\n",
       "      <td>77.8</td>\n",
       "      <td>6.14</td>\n",
       "      <td>2.33</td>\n",
       "      <td>1.10</td>\n",
       "      <td>2.02</td>\n",
       "      <td>0</td>\n",
       "      <td>4.58</td>\n",
       "    </tr>\n",
       "    <tr>\n",
       "      <th>9</th>\n",
       "      <td>2012</td>\n",
       "      <td>South East</td>\n",
       "      <td>Local</td>\n",
       "      <td>1017.3</td>\n",
       "      <td>26.03</td>\n",
       "      <td>112.6</td>\n",
       "      <td>NaN</td>\n",
       "      <td>1.72</td>\n",
       "      <td>1.89</td>\n",
       "      <td>1.54</td>\n",
       "      <td>1</td>\n",
       "      <td>4.58</td>\n",
       "    </tr>\n",
       "  </tbody>\n",
       "</table>\n",
       "</div>"
      ],
      "text/plain": [
       "   year         region seed_variety  rainfall_mm  temperature_c  \\\n",
       "0  2016     North East   Improved A       1046.8          24.84   \n",
       "1  2013     South East        Local       1103.1          27.18   \n",
       "2  2022     North East        Local       1271.5          29.34   \n",
       "3  2020     North East   Improved A       1283.6          26.79   \n",
       "4  2017     North West        Local       1364.6          23.61   \n",
       "5  2022     North East   Improved A       1702.6          26.89   \n",
       "6  2014  North Central   Improved B       1155.8          28.39   \n",
       "7  2016    South South   Improved A       1000.4          24.78   \n",
       "8  2019    South South   Improved B        855.2          25.73   \n",
       "9  2012     South East        Local       1017.3          26.03   \n",
       "\n",
       "   fertilizer_kg_ha  soil_ph  soil_organic_matter_pct  field_size_ha  \\\n",
       "0              61.0     5.84                     2.16           1.98   \n",
       "1              30.7     6.47                     1.99           1.01   \n",
       "2             127.8     5.92                     1.59           1.95   \n",
       "3              95.1     5.78                     2.41           3.38   \n",
       "4              97.5     5.51                     2.11           1.15   \n",
       "5               NaN     5.15                     2.01           5.81   \n",
       "6              53.5     5.97                     1.51           1.20   \n",
       "7              58.0     6.29                      NaN           1.68   \n",
       "8              77.8     6.14                     2.33           1.10   \n",
       "9             112.6      NaN                     1.72           1.89   \n",
       "\n",
       "   pests_index  irrigated  yield_t_ha  \n",
       "0         3.17          0        4.34  \n",
       "1         1.86          0        4.26  \n",
       "2         1.33          0        3.75  \n",
       "3         3.17          0        4.47  \n",
       "4         4.58          1        3.85  \n",
       "5         0.74          1        4.62  \n",
       "6         2.15          0        4.20  \n",
       "7         1.39          0        5.03  \n",
       "8         2.02          0        4.58  \n",
       "9         1.54          1        4.58  "
      ]
     },
     "execution_count": 32,
     "metadata": {},
     "output_type": "execute_result"
    }
   ],
   "source": [
    "df.head(10)"
   ]
  },
  {
   "cell_type": "markdown",
   "id": "7f33b499",
   "metadata": {},
   "source": [
    "\n",
    "## 2) Quick EDA (keep it *question‑driven*)\n",
    "**Guiding questions**  \n",
    "1. What is the target distribution? (Range/plausibility)  \n",
    "2. Which features are numerical vs categorical? Any missingness?  \n",
    "3. Do simple bivariate plots hint at relationships worth modeling?  \n",
    "\n",
    "> We'll restrict to a few plots to keep Week‑1 time‑boxed. Avoid overfitting your story to EDA! \n"
   ]
  },
  {
   "cell_type": "code",
   "execution_count": 33,
   "id": "6546e7cd",
   "metadata": {},
   "outputs": [
    {
     "data": {
      "text/plain": [
       "year                        0\n",
       "region                      0\n",
       "seed_variety                0\n",
       "rainfall_mm                23\n",
       "temperature_c               0\n",
       "fertilizer_kg_ha           19\n",
       "soil_ph                    24\n",
       "soil_organic_matter_pct    26\n",
       "field_size_ha               0\n",
       "pests_index                 0\n",
       "irrigated                   0\n",
       "yield_t_ha                  0\n",
       "dtype: int64"
      ]
     },
     "execution_count": 33,
     "metadata": {},
     "output_type": "execute_result"
    }
   ],
   "source": [
    "# checking for missing values in the data \n",
    "df.isnull().sum()"
   ]
  },
  {
   "cell_type": "code",
   "execution_count": 34,
   "id": "e0bb71b5",
   "metadata": {},
   "outputs": [
    {
     "data": {
      "text/plain": [
       "0"
      ]
     },
     "execution_count": 34,
     "metadata": {},
     "output_type": "execute_result"
    }
   ],
   "source": [
    "# checking for duplicates in the data \n",
    "df.duplicated().sum()"
   ]
  },
  {
   "cell_type": "code",
   "execution_count": 35,
   "id": "b745efbf",
   "metadata": {},
   "outputs": [
    {
     "data": {
      "text/plain": [
       "(600, 12)"
      ]
     },
     "execution_count": 35,
     "metadata": {},
     "output_type": "execute_result"
    }
   ],
   "source": [
    "# checking for the shape of the dsataset\n",
    "df.shape"
   ]
  },
  {
   "cell_type": "code",
   "execution_count": 36,
   "id": "cf3e588e",
   "metadata": {},
   "outputs": [
    {
     "name": "stdout",
     "output_type": "stream",
     "text": [
      "<class 'pandas.core.frame.DataFrame'>\n",
      "RangeIndex: 600 entries, 0 to 599\n",
      "Data columns (total 12 columns):\n",
      " #   Column                   Non-Null Count  Dtype  \n",
      "---  ------                   --------------  -----  \n",
      " 0   year                     600 non-null    int64  \n",
      " 1   region                   600 non-null    object \n",
      " 2   seed_variety             600 non-null    object \n",
      " 3   rainfall_mm              577 non-null    float64\n",
      " 4   temperature_c            600 non-null    float64\n",
      " 5   fertilizer_kg_ha         581 non-null    float64\n",
      " 6   soil_ph                  576 non-null    float64\n",
      " 7   soil_organic_matter_pct  574 non-null    float64\n",
      " 8   field_size_ha            600 non-null    float64\n",
      " 9   pests_index              600 non-null    float64\n",
      " 10  irrigated                600 non-null    int64  \n",
      " 11  yield_t_ha               600 non-null    float64\n",
      "dtypes: float64(8), int64(2), object(2)\n",
      "memory usage: 56.4+ KB\n"
     ]
    }
   ],
   "source": [
    "# checking the data info\n",
    "df.info()"
   ]
  },
  {
   "cell_type": "code",
   "execution_count": 37,
   "id": "40f7e055",
   "metadata": {},
   "outputs": [
    {
     "data": {
      "text/plain": [
       "array(['North East', 'South East', 'North West', 'North Central',\n",
       "       'South South', 'South West'], dtype=object)"
      ]
     },
     "execution_count": 37,
     "metadata": {},
     "output_type": "execute_result"
    }
   ],
   "source": [
    "# checking for unique values in region\n",
    "df['region'].unique()"
   ]
  },
  {
   "cell_type": "code",
   "execution_count": 38,
   "id": "94c6ed28",
   "metadata": {},
   "outputs": [
    {
     "data": {
      "text/plain": [
       "6"
      ]
     },
     "execution_count": 38,
     "metadata": {},
     "output_type": "execute_result"
    }
   ],
   "source": [
    "# counting unique values in region\n",
    "df['region'].nunique()"
   ]
  },
  {
   "cell_type": "code",
   "execution_count": 39,
   "id": "f0ad6637",
   "metadata": {},
   "outputs": [
    {
     "data": {
      "text/plain": [
       "region\n",
       "South South      111\n",
       "North Central    105\n",
       "North East       100\n",
       "North West        97\n",
       "South East        94\n",
       "South West        93\n",
       "Name: count, dtype: int64"
      ]
     },
     "execution_count": 39,
     "metadata": {},
     "output_type": "execute_result"
    }
   ],
   "source": [
    "# checking for the most occuring region\n",
    "df['region'].value_counts()"
   ]
  },
  {
   "cell_type": "code",
   "execution_count": 40,
   "id": "0e9308e6",
   "metadata": {},
   "outputs": [
    {
     "data": {
      "text/plain": [
       "seed_variety\n",
       "Local         205\n",
       "Improved B    201\n",
       "Improved A    194\n",
       "Name: count, dtype: int64"
      ]
     },
     "execution_count": 40,
     "metadata": {},
     "output_type": "execute_result"
    }
   ],
   "source": [
    "# checking for the most occuring region\n",
    "df['seed_variety'].value_counts()"
   ]
  },
  {
   "cell_type": "code",
   "execution_count": 41,
   "id": "79febc5d",
   "metadata": {},
   "outputs": [
    {
     "data": {
      "text/html": [
       "<div>\n",
       "<style scoped>\n",
       "    .dataframe tbody tr th:only-of-type {\n",
       "        vertical-align: middle;\n",
       "    }\n",
       "\n",
       "    .dataframe tbody tr th {\n",
       "        vertical-align: top;\n",
       "    }\n",
       "\n",
       "    .dataframe thead th {\n",
       "        text-align: right;\n",
       "    }\n",
       "</style>\n",
       "<table border=\"1\" class=\"dataframe\">\n",
       "  <thead>\n",
       "    <tr style=\"text-align: right;\">\n",
       "      <th></th>\n",
       "      <th>year</th>\n",
       "      <th>region</th>\n",
       "      <th>seed_variety</th>\n",
       "      <th>rainfall_mm</th>\n",
       "      <th>temperature_c</th>\n",
       "      <th>fertilizer_kg_ha</th>\n",
       "      <th>soil_ph</th>\n",
       "      <th>soil_organic_matter_pct</th>\n",
       "      <th>field_size_ha</th>\n",
       "      <th>pests_index</th>\n",
       "      <th>irrigated</th>\n",
       "      <th>yield_t_ha</th>\n",
       "    </tr>\n",
       "  </thead>\n",
       "  <tbody>\n",
       "    <tr>\n",
       "      <th>count</th>\n",
       "      <td>600.000000</td>\n",
       "      <td>600</td>\n",
       "      <td>600</td>\n",
       "      <td>577.000000</td>\n",
       "      <td>600.000000</td>\n",
       "      <td>581.000000</td>\n",
       "      <td>576.000000</td>\n",
       "      <td>574.000000</td>\n",
       "      <td>600.000000</td>\n",
       "      <td>600.000000</td>\n",
       "      <td>600.000000</td>\n",
       "      <td>600.000000</td>\n",
       "    </tr>\n",
       "    <tr>\n",
       "      <th>unique</th>\n",
       "      <td>NaN</td>\n",
       "      <td>6</td>\n",
       "      <td>3</td>\n",
       "      <td>NaN</td>\n",
       "      <td>NaN</td>\n",
       "      <td>NaN</td>\n",
       "      <td>NaN</td>\n",
       "      <td>NaN</td>\n",
       "      <td>NaN</td>\n",
       "      <td>NaN</td>\n",
       "      <td>NaN</td>\n",
       "      <td>NaN</td>\n",
       "    </tr>\n",
       "    <tr>\n",
       "      <th>top</th>\n",
       "      <td>NaN</td>\n",
       "      <td>South South</td>\n",
       "      <td>Local</td>\n",
       "      <td>NaN</td>\n",
       "      <td>NaN</td>\n",
       "      <td>NaN</td>\n",
       "      <td>NaN</td>\n",
       "      <td>NaN</td>\n",
       "      <td>NaN</td>\n",
       "      <td>NaN</td>\n",
       "      <td>NaN</td>\n",
       "      <td>NaN</td>\n",
       "    </tr>\n",
       "    <tr>\n",
       "      <th>freq</th>\n",
       "      <td>NaN</td>\n",
       "      <td>111</td>\n",
       "      <td>205</td>\n",
       "      <td>NaN</td>\n",
       "      <td>NaN</td>\n",
       "      <td>NaN</td>\n",
       "      <td>NaN</td>\n",
       "      <td>NaN</td>\n",
       "      <td>NaN</td>\n",
       "      <td>NaN</td>\n",
       "      <td>NaN</td>\n",
       "      <td>NaN</td>\n",
       "    </tr>\n",
       "    <tr>\n",
       "      <th>mean</th>\n",
       "      <td>2016.498333</td>\n",
       "      <td>NaN</td>\n",
       "      <td>NaN</td>\n",
       "      <td>1228.380243</td>\n",
       "      <td>26.059667</td>\n",
       "      <td>59.320998</td>\n",
       "      <td>6.225538</td>\n",
       "      <td>1.944495</td>\n",
       "      <td>1.921083</td>\n",
       "      <td>2.971450</td>\n",
       "      <td>0.233333</td>\n",
       "      <td>4.351217</td>\n",
       "    </tr>\n",
       "    <tr>\n",
       "      <th>std</th>\n",
       "      <td>4.096906</td>\n",
       "      <td>NaN</td>\n",
       "      <td>NaN</td>\n",
       "      <td>246.305897</td>\n",
       "      <td>1.979767</td>\n",
       "      <td>42.498999</td>\n",
       "      <td>0.632365</td>\n",
       "      <td>0.495522</td>\n",
       "      <td>1.162841</td>\n",
       "      <td>1.647869</td>\n",
       "      <td>0.423305</td>\n",
       "      <td>0.492469</td>\n",
       "    </tr>\n",
       "    <tr>\n",
       "      <th>min</th>\n",
       "      <td>2010.000000</td>\n",
       "      <td>NaN</td>\n",
       "      <td>NaN</td>\n",
       "      <td>475.900000</td>\n",
       "      <td>19.960000</td>\n",
       "      <td>0.800000</td>\n",
       "      <td>4.500000</td>\n",
       "      <td>0.500000</td>\n",
       "      <td>0.250000</td>\n",
       "      <td>0.100000</td>\n",
       "      <td>0.000000</td>\n",
       "      <td>2.620000</td>\n",
       "    </tr>\n",
       "    <tr>\n",
       "      <th>25%</th>\n",
       "      <td>2013.000000</td>\n",
       "      <td>NaN</td>\n",
       "      <td>NaN</td>\n",
       "      <td>1056.600000</td>\n",
       "      <td>24.775000</td>\n",
       "      <td>29.700000</td>\n",
       "      <td>5.757500</td>\n",
       "      <td>1.622500</td>\n",
       "      <td>1.100000</td>\n",
       "      <td>1.637500</td>\n",
       "      <td>0.000000</td>\n",
       "      <td>4.020000</td>\n",
       "    </tr>\n",
       "    <tr>\n",
       "      <th>50%</th>\n",
       "      <td>2016.000000</td>\n",
       "      <td>NaN</td>\n",
       "      <td>NaN</td>\n",
       "      <td>1231.400000</td>\n",
       "      <td>25.985000</td>\n",
       "      <td>50.600000</td>\n",
       "      <td>6.235000</td>\n",
       "      <td>1.960000</td>\n",
       "      <td>1.670000</td>\n",
       "      <td>2.770000</td>\n",
       "      <td>0.000000</td>\n",
       "      <td>4.380000</td>\n",
       "    </tr>\n",
       "    <tr>\n",
       "      <th>75%</th>\n",
       "      <td>2020.000000</td>\n",
       "      <td>NaN</td>\n",
       "      <td>NaN</td>\n",
       "      <td>1385.500000</td>\n",
       "      <td>27.390000</td>\n",
       "      <td>77.900000</td>\n",
       "      <td>6.652500</td>\n",
       "      <td>2.260000</td>\n",
       "      <td>2.460000</td>\n",
       "      <td>4.200000</td>\n",
       "      <td>0.000000</td>\n",
       "      <td>4.720000</td>\n",
       "    </tr>\n",
       "    <tr>\n",
       "      <th>max</th>\n",
       "      <td>2023.000000</td>\n",
       "      <td>NaN</td>\n",
       "      <td>NaN</td>\n",
       "      <td>1850.400000</td>\n",
       "      <td>32.390000</td>\n",
       "      <td>408.300000</td>\n",
       "      <td>8.150000</td>\n",
       "      <td>3.580000</td>\n",
       "      <td>10.440000</td>\n",
       "      <td>7.530000</td>\n",
       "      <td>1.000000</td>\n",
       "      <td>5.730000</td>\n",
       "    </tr>\n",
       "  </tbody>\n",
       "</table>\n",
       "</div>"
      ],
      "text/plain": [
       "               year       region seed_variety  rainfall_mm  temperature_c  \\\n",
       "count    600.000000          600          600   577.000000     600.000000   \n",
       "unique          NaN            6            3          NaN            NaN   \n",
       "top             NaN  South South        Local          NaN            NaN   \n",
       "freq            NaN          111          205          NaN            NaN   \n",
       "mean    2016.498333          NaN          NaN  1228.380243      26.059667   \n",
       "std        4.096906          NaN          NaN   246.305897       1.979767   \n",
       "min     2010.000000          NaN          NaN   475.900000      19.960000   \n",
       "25%     2013.000000          NaN          NaN  1056.600000      24.775000   \n",
       "50%     2016.000000          NaN          NaN  1231.400000      25.985000   \n",
       "75%     2020.000000          NaN          NaN  1385.500000      27.390000   \n",
       "max     2023.000000          NaN          NaN  1850.400000      32.390000   \n",
       "\n",
       "        fertilizer_kg_ha     soil_ph  soil_organic_matter_pct  field_size_ha  \\\n",
       "count         581.000000  576.000000               574.000000     600.000000   \n",
       "unique               NaN         NaN                      NaN            NaN   \n",
       "top                  NaN         NaN                      NaN            NaN   \n",
       "freq                 NaN         NaN                      NaN            NaN   \n",
       "mean           59.320998    6.225538                 1.944495       1.921083   \n",
       "std            42.498999    0.632365                 0.495522       1.162841   \n",
       "min             0.800000    4.500000                 0.500000       0.250000   \n",
       "25%            29.700000    5.757500                 1.622500       1.100000   \n",
       "50%            50.600000    6.235000                 1.960000       1.670000   \n",
       "75%            77.900000    6.652500                 2.260000       2.460000   \n",
       "max           408.300000    8.150000                 3.580000      10.440000   \n",
       "\n",
       "        pests_index   irrigated  yield_t_ha  \n",
       "count    600.000000  600.000000  600.000000  \n",
       "unique          NaN         NaN         NaN  \n",
       "top             NaN         NaN         NaN  \n",
       "freq            NaN         NaN         NaN  \n",
       "mean       2.971450    0.233333    4.351217  \n",
       "std        1.647869    0.423305    0.492469  \n",
       "min        0.100000    0.000000    2.620000  \n",
       "25%        1.637500    0.000000    4.020000  \n",
       "50%        2.770000    0.000000    4.380000  \n",
       "75%        4.200000    0.000000    4.720000  \n",
       "max        7.530000    1.000000    5.730000  "
      ]
     },
     "metadata": {},
     "output_type": "display_data"
    }
   ],
   "source": [
    "#  getting the data summary\n",
    "display(df.describe(include='all'))"
   ]
  },
  {
   "cell_type": "code",
   "execution_count": 42,
   "id": "592d30fc",
   "metadata": {},
   "outputs": [
    {
     "data": {
      "text/plain": [
       "Text(0.5, 1.0, 'Yield (t/ha)')"
      ]
     },
     "execution_count": 42,
     "metadata": {},
     "output_type": "execute_result"
    },
    {
     "data": {
      "image/png": "[encoded data removed]",
      "text/plain": [
       "<Figure size 640x480 with 1 Axes>"
      ]
     },
     "metadata": {},
     "output_type": "display_data"
    }
   ],
   "source": [
    "# Hist of target\n",
    "plt.figure()\n",
    "df['yield_t_ha'].hist(bins=30)\n",
    "plt.title('Yield (t/ha)')"
   ]
  },
  {
   "cell_type": "code",
   "execution_count": 43,
   "id": "f2a8e02a",
   "metadata": {},
   "outputs": [
    {
     "data": {
      "text/plain": [
       "Text(0.5, 1.0, 'Rainfall vs Yield')"
      ]
     },
     "execution_count": 43,
     "metadata": {},
     "output_type": "execute_result"
    },
    {
     "data": {
      "image/png": "[encoded data removed]",
      "text/plain": [
       "<Figure size 640x480 with 1 Axes>"
      ]
     },
     "metadata": {},
     "output_type": "display_data"
    }
   ],
   "source": [
    "# Scatter: rainfall vs yield\n",
    "plt.figure()\n",
    "plt.scatter(df['rainfall_mm'], df['yield_t_ha'], alpha=0.5)\n",
    "plt.xlabel('rainfall_mm'); plt.ylabel('yield_t_ha'); plt.title('Rainfall vs Yield')"
   ]
  },
  {
   "cell_type": "code",
   "execution_count": 44,
   "id": "4d4aa886",
   "metadata": {},
   "outputs": [
    {
     "data": {
      "image/png": "[encoded data removed]",
      "text/plain": [
       "<Figure size 640x480 with 1 Axes>"
      ]
     },
     "metadata": {},
     "output_type": "display_data"
    }
   ],
   "source": [
    "# Boxplot: region vs yield\n",
    "plt.figure()\n",
    "# simple matplotlib boxplot expects sequences\n",
    "grouped = [df.loc[df['region']==r, 'yield_t_ha'].dropna() for r in df['region'].dropna().unique()]\n",
    "plt.boxplot(grouped, labels=df['region'].dropna().unique(), vert=True, showmeans=True)\n",
    "plt.xticks(rotation=30)\n",
    "plt.title('Yield by Region')\n",
    "plt.tight_layout()\n"
   ]
  },
  {
   "cell_type": "code",
   "execution_count": 62,
   "id": "c13b518c",
   "metadata": {},
   "outputs": [
    {
     "data": {
      "image/png": "[encoded data removed]",
      "text/plain": [
       "<Figure size 1000x800 with 2 Axes>"
      ]
     },
     "metadata": {},
     "output_type": "display_data"
    }
   ],
   "source": [
    "# plotting the correlation matrix\n",
    "import seaborn as sns\n",
    "correlation_matrix = df[['year', 'rainfall_mm', 'temperature_c', 'fertilizer_kg_ha', 'soil_ph', 'soil_organic_matter_pct', 'field_size_ha', 'pests_index', 'irrigated', 'rain_fert_ration', 'temp_field']].corr()\n",
    "\n",
    "# Create heatmap\n",
    "plt.figure(figsize=(10, 8))\n",
    "sns.heatmap(correlation_matrix, annot=True, cmap='coolwarm', center=0)\n",
    "plt.title('Correlation Heatmap')\n",
    "plt.show()"
   ]
  },
  {
   "cell_type": "markdown",
   "id": "d486e44c",
   "metadata": {},
   "source": [
    "\n",
    "## 3) Train/test split and preprocessing (leak‑safe)\n",
    "- Split **before** any data‑dependent transforms.\n",
    "- Use `ColumnTransformer` to combine numeric and categorical pipelines.\n"
   ]
  },
  {
   "cell_type": "code",
   "execution_count": 45,
   "id": "01ea7244",
   "metadata": {},
   "outputs": [
    {
     "data": {
      "text/plain": [
       "Index(['year', 'region', 'seed_variety', 'rainfall_mm', 'temperature_c',\n",
       "       'fertilizer_kg_ha', 'soil_ph', 'soil_organic_matter_pct',\n",
       "       'field_size_ha', 'pests_index', 'irrigated', 'yield_t_ha'],\n",
       "      dtype='object')"
      ]
     },
     "execution_count": 45,
     "metadata": {},
     "output_type": "execute_result"
    }
   ],
   "source": [
    "# data columns\n",
    "df.columns"
   ]
  },
  {
   "cell_type": "markdown",
   "id": "7ee4e807",
   "metadata": {},
   "source": [
    "## Feature Engineering\n",
    "\n",
    "The idea is that we have some existing features and we are creating new features out ot fhem.\n",
    "\n",
    "In most cases, we engineer new features based on our domain knowledge about the problem and the data we are handling."
   ]
  },
  {
   "cell_type": "code",
   "execution_count": 46,
   "id": "42018fef",
   "metadata": {},
   "outputs": [
    {
     "data": {
      "text/html": [
       "<div>\n",
       "<style scoped>\n",
       "    .dataframe tbody tr th:only-of-type {\n",
       "        vertical-align: middle;\n",
       "    }\n",
       "\n",
       "    .dataframe tbody tr th {\n",
       "        vertical-align: top;\n",
       "    }\n",
       "\n",
       "    .dataframe thead th {\n",
       "        text-align: right;\n",
       "    }\n",
       "</style>\n",
       "<table border=\"1\" class=\"dataframe\">\n",
       "  <thead>\n",
       "    <tr style=\"text-align: right;\">\n",
       "      <th></th>\n",
       "      <th>year</th>\n",
       "      <th>region</th>\n",
       "      <th>seed_variety</th>\n",
       "      <th>rainfall_mm</th>\n",
       "      <th>temperature_c</th>\n",
       "      <th>fertilizer_kg_ha</th>\n",
       "      <th>soil_ph</th>\n",
       "      <th>soil_organic_matter_pct</th>\n",
       "      <th>field_size_ha</th>\n",
       "      <th>pests_index</th>\n",
       "      <th>irrigated</th>\n",
       "      <th>yield_t_ha</th>\n",
       "    </tr>\n",
       "  </thead>\n",
       "  <tbody>\n",
       "    <tr>\n",
       "      <th>0</th>\n",
       "      <td>2016</td>\n",
       "      <td>North East</td>\n",
       "      <td>Improved A</td>\n",
       "      <td>1046.8</td>\n",
       "      <td>24.84</td>\n",
       "      <td>61.0</td>\n",
       "      <td>5.84</td>\n",
       "      <td>2.16</td>\n",
       "      <td>1.98</td>\n",
       "      <td>3.17</td>\n",
       "      <td>0</td>\n",
       "      <td>4.34</td>\n",
       "    </tr>\n",
       "    <tr>\n",
       "      <th>1</th>\n",
       "      <td>2013</td>\n",
       "      <td>South East</td>\n",
       "      <td>Local</td>\n",
       "      <td>1103.1</td>\n",
       "      <td>27.18</td>\n",
       "      <td>30.7</td>\n",
       "      <td>6.47</td>\n",
       "      <td>1.99</td>\n",
       "      <td>1.01</td>\n",
       "      <td>1.86</td>\n",
       "      <td>0</td>\n",
       "      <td>4.26</td>\n",
       "    </tr>\n",
       "    <tr>\n",
       "      <th>2</th>\n",
       "      <td>2022</td>\n",
       "      <td>North East</td>\n",
       "      <td>Local</td>\n",
       "      <td>1271.5</td>\n",
       "      <td>29.34</td>\n",
       "      <td>127.8</td>\n",
       "      <td>5.92</td>\n",
       "      <td>1.59</td>\n",
       "      <td>1.95</td>\n",
       "      <td>1.33</td>\n",
       "      <td>0</td>\n",
       "      <td>3.75</td>\n",
       "    </tr>\n",
       "    <tr>\n",
       "      <th>3</th>\n",
       "      <td>2020</td>\n",
       "      <td>North East</td>\n",
       "      <td>Improved A</td>\n",
       "      <td>1283.6</td>\n",
       "      <td>26.79</td>\n",
       "      <td>95.1</td>\n",
       "      <td>5.78</td>\n",
       "      <td>2.41</td>\n",
       "      <td>3.38</td>\n",
       "      <td>3.17</td>\n",
       "      <td>0</td>\n",
       "      <td>4.47</td>\n",
       "    </tr>\n",
       "    <tr>\n",
       "      <th>4</th>\n",
       "      <td>2017</td>\n",
       "      <td>North West</td>\n",
       "      <td>Local</td>\n",
       "      <td>1364.6</td>\n",
       "      <td>23.61</td>\n",
       "      <td>97.5</td>\n",
       "      <td>5.51</td>\n",
       "      <td>2.11</td>\n",
       "      <td>1.15</td>\n",
       "      <td>4.58</td>\n",
       "      <td>1</td>\n",
       "      <td>3.85</td>\n",
       "    </tr>\n",
       "    <tr>\n",
       "      <th>5</th>\n",
       "      <td>2022</td>\n",
       "      <td>North East</td>\n",
       "      <td>Improved A</td>\n",
       "      <td>1702.6</td>\n",
       "      <td>26.89</td>\n",
       "      <td>NaN</td>\n",
       "      <td>5.15</td>\n",
       "      <td>2.01</td>\n",
       "      <td>5.81</td>\n",
       "      <td>0.74</td>\n",
       "      <td>1</td>\n",
       "      <td>4.62</td>\n",
       "    </tr>\n",
       "    <tr>\n",
       "      <th>6</th>\n",
       "      <td>2014</td>\n",
       "      <td>North Central</td>\n",
       "      <td>Improved B</td>\n",
       "      <td>1155.8</td>\n",
       "      <td>28.39</td>\n",
       "      <td>53.5</td>\n",
       "      <td>5.97</td>\n",
       "      <td>1.51</td>\n",
       "      <td>1.20</td>\n",
       "      <td>2.15</td>\n",
       "      <td>0</td>\n",
       "      <td>4.20</td>\n",
       "    </tr>\n",
       "    <tr>\n",
       "      <th>7</th>\n",
       "      <td>2016</td>\n",
       "      <td>South South</td>\n",
       "      <td>Improved A</td>\n",
       "      <td>1000.4</td>\n",
       "      <td>24.78</td>\n",
       "      <td>58.0</td>\n",
       "      <td>6.29</td>\n",
       "      <td>NaN</td>\n",
       "      <td>1.68</td>\n",
       "      <td>1.39</td>\n",
       "      <td>0</td>\n",
       "      <td>5.03</td>\n",
       "    </tr>\n",
       "    <tr>\n",
       "      <th>8</th>\n",
       "      <td>2019</td>\n",
       "      <td>South South</td>\n",
       "      <td>Improved B</td>\n",
       "      <td>855.2</td>\n",
       "      <td>25.73</td>\n",
       "      <td>77.8</td>\n",
       "      <td>6.14</td>\n",
       "      <td>2.33</td>\n",
       "      <td>1.10</td>\n",
       "      <td>2.02</td>\n",
       "      <td>0</td>\n",
       "      <td>4.58</td>\n",
       "    </tr>\n",
       "    <tr>\n",
       "      <th>9</th>\n",
       "      <td>2012</td>\n",
       "      <td>South East</td>\n",
       "      <td>Local</td>\n",
       "      <td>1017.3</td>\n",
       "      <td>26.03</td>\n",
       "      <td>112.6</td>\n",
       "      <td>NaN</td>\n",
       "      <td>1.72</td>\n",
       "      <td>1.89</td>\n",
       "      <td>1.54</td>\n",
       "      <td>1</td>\n",
       "      <td>4.58</td>\n",
       "    </tr>\n",
       "  </tbody>\n",
       "</table>\n",
       "</div>"
      ],
      "text/plain": [
       "   year         region seed_variety  rainfall_mm  temperature_c  \\\n",
       "0  2016     North East   Improved A       1046.8          24.84   \n",
       "1  2013     South East        Local       1103.1          27.18   \n",
       "2  2022     North East        Local       1271.5          29.34   \n",
       "3  2020     North East   Improved A       1283.6          26.79   \n",
       "4  2017     North West        Local       1364.6          23.61   \n",
       "5  2022     North East   Improved A       1702.6          26.89   \n",
       "6  2014  North Central   Improved B       1155.8          28.39   \n",
       "7  2016    South South   Improved A       1000.4          24.78   \n",
       "8  2019    South South   Improved B        855.2          25.73   \n",
       "9  2012     South East        Local       1017.3          26.03   \n",
       "\n",
       "   fertilizer_kg_ha  soil_ph  soil_organic_matter_pct  field_size_ha  \\\n",
       "0              61.0     5.84                     2.16           1.98   \n",
       "1              30.7     6.47                     1.99           1.01   \n",
       "2             127.8     5.92                     1.59           1.95   \n",
       "3              95.1     5.78                     2.41           3.38   \n",
       "4              97.5     5.51                     2.11           1.15   \n",
       "5               NaN     5.15                     2.01           5.81   \n",
       "6              53.5     5.97                     1.51           1.20   \n",
       "7              58.0     6.29                      NaN           1.68   \n",
       "8              77.8     6.14                     2.33           1.10   \n",
       "9             112.6      NaN                     1.72           1.89   \n",
       "\n",
       "   pests_index  irrigated  yield_t_ha  \n",
       "0         3.17          0        4.34  \n",
       "1         1.86          0        4.26  \n",
       "2         1.33          0        3.75  \n",
       "3         3.17          0        4.47  \n",
       "4         4.58          1        3.85  \n",
       "5         0.74          1        4.62  \n",
       "6         2.15          0        4.20  \n",
       "7         1.39          0        5.03  \n",
       "8         2.02          0        4.58  \n",
       "9         1.54          1        4.58  "
      ]
     },
     "execution_count": 46,
     "metadata": {},
     "output_type": "execute_result"
    }
   ],
   "source": [
    "df.head(10)"
   ]
  },
  {
   "cell_type": "code",
   "execution_count": 47,
   "id": "344261e8",
   "metadata": {},
   "outputs": [],
   "source": [
    "# Engineering new features\n",
    "#  multiplyingrainfall and fertilizer\n",
    "df['rain_fert_ration'] = df['rainfall_mm'] * df['fertilizer_kg_ha']\n",
    "#  dividing temperature by field size\n",
    "df['temp_field'] = df['temperature_c'] / df['field_size_ha']"
   ]
  },
  {
   "cell_type": "code",
   "execution_count": 48,
   "id": "27a7253a",
   "metadata": {},
   "outputs": [
    {
     "name": "stdout",
     "output_type": "stream",
     "text": [
      "['year', 'region', 'seed_variety', 'rainfall_mm', 'temperature_c', 'fertilizer_kg_ha', 'soil_ph', 'soil_organic_matter_pct', 'field_size_ha', 'pests_index', 'irrigated', 'rain_fert_ration', 'temp_field']\n"
     ]
    }
   ],
   "source": [
    "# target variable\n",
    "target = 'yield_t_ha'\n",
    "\n",
    "# other features\n",
    "features = [c for c in df.columns if c != target]\n",
    "print(features)"
   ]
  },
  {
   "cell_type": "code",
   "execution_count": 49,
   "id": "6c0c5efa",
   "metadata": {},
   "outputs": [],
   "source": [
    "# # dropping rows with missing values\n",
    "# df = df.dropna()\n",
    "# print(f\"Shape of df after dropping missing values: {df.shape}\")"
   ]
  },
  {
   "cell_type": "code",
   "execution_count": 50,
   "id": "e66337a6",
   "metadata": {},
   "outputs": [],
   "source": [
    "# keeping different dataframes for features and target\n",
    "X = df[features]\n",
    "y = df[target]"
   ]
  },
  {
   "cell_type": "code",
   "execution_count": 51,
   "id": "cd7426b1",
   "metadata": {},
   "outputs": [
    {
     "data": {
      "text/html": [
       "<div>\n",
       "<style scoped>\n",
       "    .dataframe tbody tr th:only-of-type {\n",
       "        vertical-align: middle;\n",
       "    }\n",
       "\n",
       "    .dataframe tbody tr th {\n",
       "        vertical-align: top;\n",
       "    }\n",
       "\n",
       "    .dataframe thead th {\n",
       "        text-align: right;\n",
       "    }\n",
       "</style>\n",
       "<table border=\"1\" class=\"dataframe\">\n",
       "  <thead>\n",
       "    <tr style=\"text-align: right;\">\n",
       "      <th></th>\n",
       "      <th>year</th>\n",
       "      <th>region</th>\n",
       "      <th>seed_variety</th>\n",
       "      <th>rainfall_mm</th>\n",
       "      <th>temperature_c</th>\n",
       "      <th>fertilizer_kg_ha</th>\n",
       "      <th>soil_ph</th>\n",
       "      <th>soil_organic_matter_pct</th>\n",
       "      <th>field_size_ha</th>\n",
       "      <th>pests_index</th>\n",
       "      <th>irrigated</th>\n",
       "      <th>rain_fert_ration</th>\n",
       "      <th>temp_field</th>\n",
       "    </tr>\n",
       "  </thead>\n",
       "  <tbody>\n",
       "    <tr>\n",
       "      <th>0</th>\n",
       "      <td>2016</td>\n",
       "      <td>North East</td>\n",
       "      <td>Improved A</td>\n",
       "      <td>1046.8</td>\n",
       "      <td>24.84</td>\n",
       "      <td>61.0</td>\n",
       "      <td>5.84</td>\n",
       "      <td>2.16</td>\n",
       "      <td>1.98</td>\n",
       "      <td>3.17</td>\n",
       "      <td>0</td>\n",
       "      <td>63854.80</td>\n",
       "      <td>12.545455</td>\n",
       "    </tr>\n",
       "    <tr>\n",
       "      <th>1</th>\n",
       "      <td>2013</td>\n",
       "      <td>South East</td>\n",
       "      <td>Local</td>\n",
       "      <td>1103.1</td>\n",
       "      <td>27.18</td>\n",
       "      <td>30.7</td>\n",
       "      <td>6.47</td>\n",
       "      <td>1.99</td>\n",
       "      <td>1.01</td>\n",
       "      <td>1.86</td>\n",
       "      <td>0</td>\n",
       "      <td>33865.17</td>\n",
       "      <td>26.910891</td>\n",
       "    </tr>\n",
       "    <tr>\n",
       "      <th>2</th>\n",
       "      <td>2022</td>\n",
       "      <td>North East</td>\n",
       "      <td>Local</td>\n",
       "      <td>1271.5</td>\n",
       "      <td>29.34</td>\n",
       "      <td>127.8</td>\n",
       "      <td>5.92</td>\n",
       "      <td>1.59</td>\n",
       "      <td>1.95</td>\n",
       "      <td>1.33</td>\n",
       "      <td>0</td>\n",
       "      <td>162497.70</td>\n",
       "      <td>15.046154</td>\n",
       "    </tr>\n",
       "    <tr>\n",
       "      <th>3</th>\n",
       "      <td>2020</td>\n",
       "      <td>North East</td>\n",
       "      <td>Improved A</td>\n",
       "      <td>1283.6</td>\n",
       "      <td>26.79</td>\n",
       "      <td>95.1</td>\n",
       "      <td>5.78</td>\n",
       "      <td>2.41</td>\n",
       "      <td>3.38</td>\n",
       "      <td>3.17</td>\n",
       "      <td>0</td>\n",
       "      <td>122070.36</td>\n",
       "      <td>7.926036</td>\n",
       "    </tr>\n",
       "    <tr>\n",
       "      <th>4</th>\n",
       "      <td>2017</td>\n",
       "      <td>North West</td>\n",
       "      <td>Local</td>\n",
       "      <td>1364.6</td>\n",
       "      <td>23.61</td>\n",
       "      <td>97.5</td>\n",
       "      <td>5.51</td>\n",
       "      <td>2.11</td>\n",
       "      <td>1.15</td>\n",
       "      <td>4.58</td>\n",
       "      <td>1</td>\n",
       "      <td>133048.50</td>\n",
       "      <td>20.530435</td>\n",
       "    </tr>\n",
       "  </tbody>\n",
       "</table>\n",
       "</div>"
      ],
      "text/plain": [
       "   year      region seed_variety  rainfall_mm  temperature_c  \\\n",
       "0  2016  North East   Improved A       1046.8          24.84   \n",
       "1  2013  South East        Local       1103.1          27.18   \n",
       "2  2022  North East        Local       1271.5          29.34   \n",
       "3  2020  North East   Improved A       1283.6          26.79   \n",
       "4  2017  North West        Local       1364.6          23.61   \n",
       "\n",
       "   fertilizer_kg_ha  soil_ph  soil_organic_matter_pct  field_size_ha  \\\n",
       "0              61.0     5.84                     2.16           1.98   \n",
       "1              30.7     6.47                     1.99           1.01   \n",
       "2             127.8     5.92                     1.59           1.95   \n",
       "3              95.1     5.78                     2.41           3.38   \n",
       "4              97.5     5.51                     2.11           1.15   \n",
       "\n",
       "   pests_index  irrigated  rain_fert_ration  temp_field  \n",
       "0         3.17          0          63854.80   12.545455  \n",
       "1         1.86          0          33865.17   26.910891  \n",
       "2         1.33          0         162497.70   15.046154  \n",
       "3         3.17          0         122070.36    7.926036  \n",
       "4         4.58          1         133048.50   20.530435  "
      ]
     },
     "execution_count": 51,
     "metadata": {},
     "output_type": "execute_result"
    }
   ],
   "source": [
    "X.head()"
   ]
  },
  {
   "cell_type": "code",
   "execution_count": 52,
   "id": "d67d9695",
   "metadata": {},
   "outputs": [
    {
     "data": {
      "text/plain": [
       "0    4.34\n",
       "1    4.26\n",
       "2    3.75\n",
       "3    4.47\n",
       "4    3.85\n",
       "Name: yield_t_ha, dtype: float64"
      ]
     },
     "execution_count": 52,
     "metadata": {},
     "output_type": "execute_result"
    }
   ],
   "source": [
    "y.head()\n"
   ]
  },
  {
   "cell_type": "code",
   "execution_count": 53,
   "id": "8d813ab6",
   "metadata": {},
   "outputs": [],
   "source": [
    "# splitting our data into train and test set\n",
    "X_train, X_test, y_train, y_test = train_test_split(\n",
    "    X, y, test_size=0.2, random_state=2\n",
    ")"
   ]
  },
  {
   "cell_type": "code",
   "execution_count": 54,
   "id": "a54594d7",
   "metadata": {},
   "outputs": [
    {
     "name": "stdout",
     "output_type": "stream",
     "text": [
      "numeric_features: ['year', 'rainfall_mm', 'temperature_c', 'fertilizer_kg_ha', 'soil_ph', 'soil_organic_matter_pct', 'field_size_ha', 'pests_index', 'irrigated', 'rain_fert_ration', 'temp_field']\n",
      "categorical_features: ['region', 'seed_variety']\n"
     ]
    }
   ],
   "source": [
    "# seperating numerical features from categorical features\n",
    "numeric_features = X.select_dtypes(include=['int64','float64']).columns.tolist()\n",
    "print(f\"numeric_features: {numeric_features}\")\n",
    "categorical_features = X.select_dtypes(include=['object']).columns.tolist()\n",
    "print(f\"categorical_features: {categorical_features}\")"
   ]
  },
  {
   "cell_type": "code",
   "execution_count": 55,
   "id": "cdf29970",
   "metadata": {},
   "outputs": [],
   "source": [
    "# creating pipelines for numerical and categorical features\n",
    "numeric_pipe = Pipeline([\n",
    "    # treating missing values\n",
    "    ('imputer', SimpleImputer(strategy='median')),\n",
    "    # scaling numerical features\n",
    "    ('scaler', StandardScaler())\n",
    "])\n",
    "\n",
    "categorical_pipe = Pipeline([\n",
    "    # treating missing values\n",
    "    ('imputer', SimpleImputer(strategy='most_frequent')),\n",
    "    # encoding categorical features\n",
    "    ('ohe', OneHotEncoder(handle_unknown='ignore'))\n",
    "])\n",
    "\n",
    "preprocess = ColumnTransformer([\n",
    "    ('num', numeric_pipe, numeric_features),\n",
    "    ('cat', categorical_pipe, categorical_features)\n",
    "])"
   ]
  },
  {
   "cell_type": "markdown",
   "id": "0f4b1f59",
   "metadata": {},
   "source": [
    "\n",
    "## 4) Baseline models\n",
    "Start simple: Linear Regression and Random Forest. Use identical preprocessing.\n"
   ]
  },
  {
   "cell_type": "code",
   "execution_count": 56,
   "id": "e9549a5a",
   "metadata": {},
   "outputs": [
    {
     "name": "stdout",
     "output_type": "stream",
     "text": [
      "LinearRegression: MAE=0.270, RMSE=0.337, R^2=0.499\n"
     ]
    },
    {
     "name": "stderr",
     "output_type": "stream",
     "text": [
      "/opt/anaconda3/lib/python3.12/site-packages/sklearn/metrics/_regression.py:483: FutureWarning: 'squared' is deprecated in version 1.4 and will be removed in 1.6. To calculate the root mean squared error, use the function'root_mean_squared_error'.\n",
      "  warnings.warn(\n"
     ]
    },
    {
     "name": "stdout",
     "output_type": "stream",
     "text": [
      "RandomForestRegressor: MAE=0.253, RMSE=0.328, R^2=0.527\n"
     ]
    },
    {
     "name": "stderr",
     "output_type": "stream",
     "text": [
      "/opt/anaconda3/lib/python3.12/site-packages/sklearn/metrics/_regression.py:483: FutureWarning: 'squared' is deprecated in version 1.4 and will be removed in 1.6. To calculate the root mean squared error, use the function'root_mean_squared_error'.\n",
      "  warnings.warn(\n"
     ]
    },
    {
     "data": {
      "text/html": [
       "<div>\n",
       "<style scoped>\n",
       "    .dataframe tbody tr th:only-of-type {\n",
       "        vertical-align: middle;\n",
       "    }\n",
       "\n",
       "    .dataframe tbody tr th {\n",
       "        vertical-align: top;\n",
       "    }\n",
       "\n",
       "    .dataframe thead th {\n",
       "        text-align: right;\n",
       "    }\n",
       "</style>\n",
       "<table border=\"1\" class=\"dataframe\">\n",
       "  <thead>\n",
       "    <tr style=\"text-align: right;\">\n",
       "      <th></th>\n",
       "      <th>model</th>\n",
       "      <th>MAE</th>\n",
       "      <th>RMSE</th>\n",
       "      <th>R2</th>\n",
       "    </tr>\n",
       "  </thead>\n",
       "  <tbody>\n",
       "    <tr>\n",
       "      <th>0</th>\n",
       "      <td>LinearRegression</td>\n",
       "      <td>0.269926</td>\n",
       "      <td>0.337420</td>\n",
       "      <td>0.499058</td>\n",
       "    </tr>\n",
       "    <tr>\n",
       "      <th>1</th>\n",
       "      <td>RandomForestRegressor</td>\n",
       "      <td>0.252689</td>\n",
       "      <td>0.327726</td>\n",
       "      <td>0.527430</td>\n",
       "    </tr>\n",
       "  </tbody>\n",
       "</table>\n",
       "</div>"
      ],
      "text/plain": [
       "                   model       MAE      RMSE        R2\n",
       "0       LinearRegression  0.269926  0.337420  0.499058\n",
       "1  RandomForestRegressor  0.252689  0.327726  0.527430"
      ]
     },
     "execution_count": 56,
     "metadata": {},
     "output_type": "execute_result"
    }
   ],
   "source": [
    "\n",
    "def evaluate(model, X_train, y_train, X_test, y_test, name='model'):\n",
    "    # model training\n",
    "    model.fit(X_train, y_train)\n",
    "    # model prediction\n",
    "    preds = model.predict(X_test)\n",
    "    # model evaluation\n",
    "    mae = mean_absolute_error(y_test, preds)\n",
    "    rmse = mean_squared_error(y_test, preds, squared=False)\n",
    "    r2 = r2_score(y_test, preds)\n",
    "    print(f\"{name}: MAE={mae:.3f}, RMSE={rmse:.3f}, R^2={r2:.3f}\")\n",
    "    return {'model': name, 'MAE': mae, 'RMSE': rmse, 'R2': r2}\n",
    "\n",
    "\n",
    "# Linear regression model\n",
    "linreg = Pipeline([('prep', preprocess), ('model', LinearRegression())])\n",
    "# Random forest model\n",
    "rf = Pipeline([('prep', preprocess), ('model', RandomForestRegressor(random_state=42, n_estimators=300))])\n",
    "\n",
    "scores = []\n",
    "scores.append(evaluate(linreg, X_train, y_train, X_test, y_test, 'LinearRegression'))\n",
    "scores.append(evaluate(rf, X_train, y_train, X_test, y_test, 'RandomForestRegressor'))\n",
    "\n",
    "pd.DataFrame(scores)\n"
   ]
  },
  {
   "cell_type": "code",
   "execution_count": null,
   "id": "6cdf46a4",
   "metadata": {},
   "outputs": [],
   "source": []
  },
  {
   "cell_type": "code",
   "execution_count": null,
   "id": "44cb2a0d",
   "metadata": {},
   "outputs": [],
   "source": []
  },
  {
   "cell_type": "markdown",
   "id": "1218c970",
   "metadata": {},
   "source": [
    "\n",
    "### Notes & next steps\n",
    "- **Pick the metric** that matches your business objective (MAE often reads in the same units as the target).  \n",
    "- For Week‑2 we'll add **cross‑validation** and **hyperparameter tuning**; for now record a **baseline**.\n",
    "- Save the best baseline for reproducibility.\n"
   ]
  },
  {
   "cell_type": "code",
   "execution_count": 57,
   "id": "013ff584",
   "metadata": {},
   "outputs": [
    {
     "name": "stdout",
     "output_type": "stream",
     "text": [
      "Saved: /Users/apple/Downloads/DataVerse/Week 1/scripts/best_baseline_model.joblib\n"
     ]
    }
   ],
   "source": [
    "\n",
    "best = max(scores, key=lambda d: d['R2'])\n",
    "best_name = best['model']\n",
    "best_pipe = rf if best_name == 'RandomForestRegressor' else linreg\n",
    "out_path = pathlib.Path('best_baseline_model.joblib')\n",
    "joblib.dump(best_pipe, out_path)\n",
    "print('Saved:', out_path.resolve())\n"
   ]
  },
  {
   "cell_type": "markdown",
   "id": "1de83e32",
   "metadata": {},
   "source": [
    "\n",
    "## Appendix: Optional classification demo (for Tuesday live-coding)\n",
    "This short example demonstrates binary classification using Logistic Regression with scikit‑learn.\n"
   ]
  },
  {
   "cell_type": "code",
   "execution_count": 58,
   "id": "356df8be",
   "metadata": {},
   "outputs": [
    {
     "name": "stdout",
     "output_type": "stream",
     "text": [
      "Classification R^2 doesn't apply; use accuracy:\n",
      "Accuracy: 0.9736842105263158\n"
     ]
    }
   ],
   "source": [
    "\n",
    "from sklearn.datasets import load_breast_cancer\n",
    "from sklearn.linear_model import LogisticRegression\n",
    "\n",
    "data = load_breast_cancer(as_frame=True)\n",
    "Xc = data['data']; yc = data['target']\n",
    "\n",
    "clf = make_pipeline(\n",
    "    SimpleImputer(strategy='median'),\n",
    "    StandardScaler(with_mean=False),\n",
    "    LogisticRegression(max_iter=200)\n",
    ")\n",
    "Xc_train, Xc_test, yc_train, yc_test = train_test_split(Xc, yc, test_size=0.2, random_state=42)\n",
    "clf.fit(Xc_train, yc_train)\n",
    "print('Classification R^2 doesn\\'t apply; use accuracy:')\n",
    "print('Accuracy:', (clf.score(Xc_test, yc_test)))\n"
   ]
  }
 ],
 "metadata": {
  "kernelspec": {
   "display_name": "base",
   "language": "python",
   "name": "python3"
  },
  "language_info": {
   "codemirror_mode": {
    "name": "ipython",
    "version": 3
   },
   "file_extension": ".py",
   "mimetype": "text/x-python",
   "name": "python",
   "nbconvert_exporter": "python",
   "pygments_lexer": "ipython3",
   "version": "3.12.7"
  }
 },
 "nbformat": 4,
 "nbformat_minor": 5
}
