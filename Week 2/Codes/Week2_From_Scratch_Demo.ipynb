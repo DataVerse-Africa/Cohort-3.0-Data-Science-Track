{
 "cells": [
  {
   "cell_type": "markdown",
   "id": "460039c6",
   "metadata": {},
   "source": [
    "# Week 2 — From-Scratch ML: Code Pack Demo"
   ]
  },
  {
   "cell_type": "code",
   "execution_count": 1,
   "id": "4a9c6159",
   "metadata": {},
   "outputs": [],
   "source": [
    "import numpy as np\n",
    "from src.linear_regression import LinearRegressionGD, LinearRegressionNormal\n",
    "from src.logistic_regression import LogisticRegressionGD\n",
    "from src.decision_tree import DecisionTreeClassifierScratch, DecisionTreeRegressorScratch\n",
    "from src.random_forest import RandomForestClassifierScratch, RandomForestRegressorScratch\n",
    "from src.svm import LinearSVMClassifierSGD\n",
    "from src.metrics import mae, mse, rmse, r2, accuracy, precision, recall, f1\n",
    "from src.utils import train_test_split, standardize, make_regression, make_classification"
   ]
  },
  {
   "cell_type": "markdown",
   "id": "d5a75c02",
   "metadata": {},
   "source": [
    "## Linear Regression (Normal Equation vs Gradient Descent)"
   ]
  },
  {
   "cell_type": "code",
   "execution_count": 2,
   "id": "d8642a7c",
   "metadata": {},
   "outputs": [
    {
     "name": "stdout",
     "output_type": "stream",
     "text": [
      "NormalEq: RMSE=0.669  R2=0.330\n",
      "GradDesc: RMSE=0.669  R2=0.330\n"
     ]
    }
   ],
   "source": [
    "X, y, w_true = make_regression(n_samples=400, n_features=3, noise=0.7, random_state=42)\n",
    "X_tr, X_te, y_tr, y_te = train_test_split(X, y, test_size=0.25, random_state=0)\n",
    "\n",
    "lin_ne = LinearRegressionNormal(fit_intercept=True).fit(X_tr, y_tr)\n",
    "pred_ne = lin_ne.predict(X_te)\n",
    "print(\"NormalEq: RMSE=%.3f  R2=%.3f\" % (rmse(y_te, pred_ne), r2(y_te, pred_ne)))\n",
    "\n",
    "lin_gd = LinearRegressionGD(lr=0.1, n_epochs=500, l2=1e-4, fit_intercept=True, random_state=0).fit(X_tr, y_tr)\n",
    "pred_gd = lin_gd.predict(X_te)\n",
    "print(\"GradDesc: RMSE=%.3f  R2=%.3f\" % (rmse(y_te, pred_gd), r2(y_te, pred_gd)))"
   ]
  },
  {
   "cell_type": "markdown",
   "id": "2eb251c7",
   "metadata": {},
   "source": [
    "## Logistic Regression (Binary)"
   ]
  },
  {
   "cell_type": "code",
   "execution_count": 3,
   "id": "68451758",
   "metadata": {},
   "outputs": [
    {
     "name": "stdout",
     "output_type": "stream",
     "text": [
      "Accuracy=1.000  Precision=1.000  Recall=1.000  F1=1.000\n"
     ]
    }
   ],
   "source": [
    "X, y = make_classification(n_samples=400, random_state=7)\n",
    "X, mean, std = standardize(X)\n",
    "X_tr, X_te, y_tr, y_te = train_test_split(X, y, test_size=0.3, random_state=1)\n",
    "\n",
    "logit = LogisticRegressionGD(lr=0.2, n_epochs=2000, l2=1e-3, random_state=0).fit(X_tr, y_tr)\n",
    "y_pred = logit.predict(X_te)\n",
    "print(\"Accuracy=%.3f  Precision=%.3f  Recall=%.3f  F1=%.3f\" % (accuracy(y_te,y_pred), precision(y_te,y_pred), recall(y_te,y_pred), f1(y_te,y_pred)))"
   ]
  },
  {
   "cell_type": "markdown",
   "id": "d4930736",
   "metadata": {},
   "source": [
    "## Decision Trees (Classifier & Regressor)"
   ]
  },
  {
   "cell_type": "code",
   "execution_count": 4,
   "id": "c3e1524a",
   "metadata": {},
   "outputs": [
    {
     "name": "stdout",
     "output_type": "stream",
     "text": [
      "DT Classifier: Acc=1.000  F1=1.000\n",
      "DT Regressor: RMSE=2.088  R2=-0.059\n"
     ]
    }
   ],
   "source": [
    "# Classifier\n",
    "Xc, yc = make_classification(n_samples=300, random_state=3)\n",
    "Xc, mean, std = standardize(Xc)\n",
    "Xc_tr, Xc_te, yc_tr, yc_te = train_test_split(Xc, yc, test_size=0.3, random_state=3)\n",
    "\n",
    "dtc = DecisionTreeClassifierScratch(max_depth=4, random_state=0).fit(Xc_tr, yc_tr)\n",
    "yc_pred = dtc.predict(Xc_te)\n",
    "print(\"DT Classifier: Acc=%.3f  F1=%.3f\" % (accuracy(yc_te,yc_pred), f1(yc_te,yc_pred)))\n",
    "\n",
    "# Regressor\n",
    "Xr, yr, _ = make_regression(n_samples=300, n_features=1, noise=2.0, random_state=5)\n",
    "Xr_tr, Xr_te, yr_tr, yr_te = train_test_split(Xr, yr, test_size=0.3, random_state=4)\n",
    "dtr = DecisionTreeRegressorScratch(max_depth=3, random_state=0).fit(Xr_tr, yr_tr)\n",
    "yr_pred = dtr.predict(Xr_te)\n",
    "print(\"DT Regressor: RMSE=%.3f  R2=%.3f\" % (rmse(yr_te, yr_pred), r2(yr_te, yr_pred)))"
   ]
  },
  {
   "cell_type": "markdown",
   "id": "05907065",
   "metadata": {},
   "source": [
    "## Random Forest (Classifier & Regressor)"
   ]
  },
  {
   "cell_type": "code",
   "execution_count": 5,
   "id": "83bb1361",
   "metadata": {},
   "outputs": [
    {
     "name": "stdout",
     "output_type": "stream",
     "text": [
      "RF Classifier: Acc=1.000  F1=1.000\n",
      "RF Regressor: RMSE=2.065  R2=-0.036\n"
     ]
    }
   ],
   "source": [
    "# Classifier\n",
    "rfc = RandomForestClassifierScratch(n_estimators=50, max_depth=6, max_features=1, random_state=0).fit(Xc_tr, yc_tr)\n",
    "yc_pred_rf = rfc.predict(Xc_te)\n",
    "print(\"RF Classifier: Acc=%.3f  F1=%.3f\" % (accuracy(yc_te,yc_pred_rf), f1(yc_te,yc_pred_rf)))\n",
    "\n",
    "# Regressor\n",
    "rfr = RandomForestRegressorScratch(n_estimators=50, max_depth=5, max_features=1, random_state=0).fit(Xr_tr, yr_tr)\n",
    "yr_pred_rf = rfr.predict(Xr_te)\n",
    "print(\"RF Regressor: RMSE=%.3f  R2=%.3f\" % (rmse(yr_te, yr_pred_rf), r2(yr_te, yr_pred_rf)))"
   ]
  },
  {
   "cell_type": "markdown",
   "id": "cf41beb1",
   "metadata": {},
   "source": [
    "## Linear SVM (Classifier via SGD)"
   ]
  },
  {
   "cell_type": "code",
   "execution_count": 6,
   "id": "3e1329b9",
   "metadata": {},
   "outputs": [
    {
     "name": "stdout",
     "output_type": "stream",
     "text": [
      "SVM (linear) Accuracy=1.000  F1=1.000\n"
     ]
    }
   ],
   "source": [
    "Xsvm, ysvm = make_classification(n_samples=400, random_state=11)\n",
    "Xsvm, mean, std = standardize(Xsvm)\n",
    "Xtr, Xte, ytr, yte = train_test_split(Xsvm, ysvm, test_size=0.25, random_state=2)\n",
    "\n",
    "svm = LinearSVMClassifierSGD(lr=0.05, n_epochs=30, lam=1e-3, random_state=0).fit(Xtr, ytr)\n",
    "yp = svm.predict(Xte)\n",
    "print(\"SVM (linear) Accuracy=%.3f  F1=%.3f\" % (accuracy(yte, yp), f1(yte, yp)))"
   ]
  },
  {
   "cell_type": "code",
   "execution_count": null,
   "id": "879f74cd",
   "metadata": {},
   "outputs": [],
   "source": []
  }
 ],
 "metadata": {
  "kernelspec": {
   "display_name": "base",
   "language": "python",
   "name": "python3"
  },
  "language_info": {
   "codemirror_mode": {
    "name": "ipython",
    "version": 3
   },
   "file_extension": ".py",
   "mimetype": "text/x-python",
   "name": "python",
   "nbconvert_exporter": "python",
   "pygments_lexer": "ipython3",
   "version": "3.12.7"
  }
 },
 "nbformat": 4,
 "nbformat_minor": 5
}
